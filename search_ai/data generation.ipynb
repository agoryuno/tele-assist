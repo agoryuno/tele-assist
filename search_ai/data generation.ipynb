{
 "cells": [
  {
   "cell_type": "code",
   "execution_count": 1,
   "metadata": {},
   "outputs": [],
   "source": [
    "import json\n",
    "from datetime import datetime, timedelta\n",
    "import configparser\n",
    "import re\n",
    "import time\n",
    "import pickle\n",
    "\n",
    "import numpy as np\n",
    "import openai\n",
    "\n",
    "from tqdm import tqdm\n",
    "\n",
    "\n",
    "def embed_text(text):\n",
    "    return openai.Embedding.create(input=text,\n",
    "                            model=\"text-embedding-ada-002\",\n",
    "                            )[\"data\"][0]['embedding']\n",
    "    \n",
    "\n",
    "def make_random_date(\n",
    "        start: datetime = datetime(2000, 1, 1), \n",
    "        end: datetime = datetime(2050, 12, 31)):\n",
    "    start_ts = start.timestamp()\n",
    "    end_ts = end.timestamp()\n",
    "    random_ts = np.random.randint(start_ts, end_ts)\n",
    "    dt = datetime.fromtimestamp(random_ts)\n",
    "    return dt, dt.strftime(\"%A, %B %d, %Y\"), dt.strftime(\"%Y-%m-%d\")\n",
    "\n",
    "\n",
    "def generate_dates(prompts, n=20):\n",
    "    times = {\"w\": \"weeks\",\n",
    "             \"d\": \"days\"}\n",
    "    pat = re.compile(r\"(?:|\\-(\\d+)([dw]|mo))$\")\n",
    "\n",
    "    sample = []\n",
    "    for _ in range(n):\n",
    "        for prompt in prompts:\n",
    "            m = pat.match(prompt[\"td\"])\n",
    "            assert m, prompt\n",
    "            mult, tm = m.group(1), m.group(2)\n",
    "            if mult is None:\n",
    "                td = None\n",
    "            elif tm == \"mo\":\n",
    "                td = timedelta(days=30*int(mult))\n",
    "            else:\n",
    "                td = timedelta(**{times[tm]: int(mult)})\n",
    "            \n",
    "            curr_date, curr_date_str, curr_date_str2 = make_random_date()\n",
    "            if td:\n",
    "                after_date = (curr_date - td)\n",
    "                label = (after_date.year, after_date.month, after_date.day)\n",
    "            else:\n",
    "                label = (-1,-1,-1)\n",
    "\n",
    "            new_prompt = f\"Today is {curr_date_str}. {prompt['prompt']}\"\n",
    "            sample.append((curr_date_str2, new_prompt, label))\n",
    "    return sample\n",
    "\n",
    "\n",
    "def make_samples(dates):\n",
    "    for date_str, prompt, label in tqdm(dates):\n",
    "        while True:\n",
    "            try:\n",
    "                emb = embed_text(prompt)\n",
    "                break\n",
    "            except:\n",
    "                time.sleep(1)\n",
    "        yield (date_str, prompt, label, emb)\n"
   ]
  },
  {
   "attachments": {},
   "cell_type": "markdown",
   "metadata": {},
   "source": [
    "Make sure you set your OpenAI API token in the config file 'config.ini'"
   ]
  },
  {
   "cell_type": "code",
   "execution_count": 2,
   "metadata": {},
   "outputs": [],
   "source": [
    "# Initial prompts, you can add more if you feel like it\n",
    "PROMPTS_PATH = \"prompts.json\"\n",
    "\n",
    "# Configuration. Only the OPENAI_TOKEN is required\n",
    "CONFIG_PATH = \"config.ini\"\n",
    "\n",
    "# Where to save the generated samples\n",
    "SAVE_PATH = \"full_samples2.pkl\"\n",
    "\n",
    "# How many iterations through the prompts in PROMPTS_PATH to make\n",
    "N_ITER = 250\n",
    "\n",
    "config = configparser.ConfigParser()\n",
    "config.read(CONFIG_PATH)\n",
    "openai.api_key = config[\"MAIN\"][\"OPENAI_TOKEN\"]\n",
    "\n",
    "with open(PROMPTS_PATH, \"r\") as f:\n",
    "    prompts = json.load(f)"
   ]
  },
  {
   "attachments": {},
   "cell_type": "markdown",
   "metadata": {},
   "source": [
    "Generate training data"
   ]
  },
  {
   "cell_type": "code",
   "execution_count": 3,
   "metadata": {},
   "outputs": [
    {
     "name": "stderr",
     "output_type": "stream",
     "text": [
      "  1%|          | 35/6500 [00:18<41:48,  2.58it/s]  "
     ]
    }
   ],
   "source": [
    "full_dates = generate_dates(prompts, n=N_ITER)\n",
    "full_samples = make_samples(full_dates)\n",
    "\n",
    "samples = []\n",
    "for i, sample in enumerate(full_samples):\n",
    "    samples.append(sample)\n",
    "    if i%100 == 0:\n",
    "        with open(SAVE_PATH, \"wb\") as f:\n",
    "            pickle.dump(samples, f)\n",
    "\n",
    "with open(SAVE_PATH, \"wb\") as f:\n",
    "    pickle.dump(samples, f)\n"
   ]
  }
 ],
 "metadata": {
  "kernelspec": {
   "display_name": "Python 3",
   "language": "python",
   "name": "python3"
  },
  "language_info": {
   "codemirror_mode": {
    "name": "ipython",
    "version": 3
   },
   "file_extension": ".py",
   "mimetype": "text/x-python",
   "name": "python",
   "nbconvert_exporter": "python",
   "pygments_lexer": "ipython3",
   "version": "3.10.7"
  },
  "orig_nbformat": 4
 },
 "nbformat": 4,
 "nbformat_minor": 2
}
